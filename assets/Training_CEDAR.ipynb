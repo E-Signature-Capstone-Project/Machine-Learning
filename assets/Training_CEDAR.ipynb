{
  "nbformat": 4,
  "nbformat_minor": 0,
  "metadata": {
    "colab": {
      "provenance": [],
      "gpuType": "T4"
    },
    "kernelspec": {
      "name": "python3",
      "display_name": "Python 3"
    },
    "language_info": {
      "name": "python"
    },
    "accelerator": "GPU"
  },
  "cells": [
    {
      "cell_type": "code",
      "source": [
        "# ======================================================\n",
        "# 1. Mount Google Drive\n",
        "# ======================================================\n",
        "from google.colab import drive\n",
        "drive.mount('/content/drive')"
      ],
      "metadata": {
        "colab": {
          "base_uri": "https://localhost:8080/"
        },
        "id": "Z0fcqyPr1zKj",
        "outputId": "6087ca65-7e6d-4fe5-84f5-987925267853"
      },
      "execution_count": 1,
      "outputs": [
        {
          "output_type": "stream",
          "name": "stdout",
          "text": [
            "Mounted at /content/drive\n"
          ]
        }
      ]
    },
    {
      "cell_type": "code",
      "execution_count": 12,
      "metadata": {
        "id": "ZHU9UizWH9XG"
      },
      "outputs": [],
      "source": [
        "# ======================================================\n",
        "# 2. Import libraries\n",
        "# ======================================================\n",
        "import os\n",
        "import random\n",
        "import numpy as np\n",
        "import tensorflow as tf\n",
        "from tensorflow.keras import backend as K\n",
        "from tensorflow.keras.models import Model\n",
        "from tensorflow.keras.layers import Input, Conv2D, MaxPooling2D, Flatten, Dense, Lambda\n",
        "from tensorflow.keras.preprocessing.image import load_img, img_to_array\n",
        "from sklearn.model_selection import train_test_split\n",
        "from tensorflow.keras.callbacks import EarlyStopping, ModelCheckpoint"
      ]
    },
    {
      "cell_type": "code",
      "source": [
        "# ======================================================\n",
        "# 3. Dataset path (ubah sesuai lokasi kamu)\n",
        "# ======================================================\n",
        "path_org = \"/content/drive/MyDrive/CapstoneProject/signatures/full_org\"\n",
        "path_forg = \"/content/drive/MyDrive/CapstoneProject/signatures/full_forg\""
      ],
      "metadata": {
        "id": "OZM7-EYPOt8z"
      },
      "execution_count": 13,
      "outputs": []
    },
    {
      "cell_type": "code",
      "source": [
        "# ======================================================\n",
        "# 4. Fungsi bantu untuk load & augment gambar\n",
        "# ======================================================\n",
        "import tensorflow as tf\n",
        "\n",
        "def load_image(path, size=(155, 220)):\n",
        "    img = load_img(path, color_mode='grayscale', target_size=size)\n",
        "    img = img_to_array(img) / 255.0\n",
        "    # augmentasi ringan biar model lebih general\n",
        "    img = tf.image.random_brightness(img, max_delta=0.1)\n",
        "    img = tf.image.random_contrast(img, 0.9, 1.1)\n",
        "    return img\n",
        "\n",
        "def get_id(filename):\n",
        "    # contoh nama: original_8_2.png -> ID = 8\n",
        "    parts = filename.split('_')\n",
        "    return int(parts[1])\n"
      ],
      "metadata": {
        "id": "EEvJMJ75O3RN"
      },
      "execution_count": 14,
      "outputs": []
    },
    {
      "cell_type": "code",
      "source": [
        "# ======================================================\n",
        "# 5. Buat pasangan data\n",
        "# ======================================================\n",
        "org_files = [f for f in os.listdir(path_org) if f.endswith('.png')]\n",
        "forg_files = [f for f in os.listdir(path_forg) if f.endswith('.png')]\n",
        "\n",
        "org_dict = {}\n",
        "forg_dict = {}\n",
        "\n",
        "for f in org_files:\n",
        "    pid = get_id(f)\n",
        "    org_dict.setdefault(pid, []).append(f)\n",
        "\n",
        "for f in forg_files:\n",
        "    pid = get_id(f)\n",
        "    forg_dict.setdefault(pid, []).append(f)\n",
        "\n",
        "pairs, labels = [], []\n",
        "\n",
        "# Positif (asli vs asli)\n",
        "for pid, imgs in org_dict.items():\n",
        "    for i in range(len(imgs) - 1):\n",
        "        img1 = load_image(os.path.join(path_org, imgs[i]))\n",
        "        img2 = load_image(os.path.join(path_org, imgs[i + 1]))\n",
        "        pairs.append([img1, img2])\n",
        "        labels.append(1)\n",
        "\n",
        "# Negatif (asli vs palsu)\n",
        "for pid, imgs in forg_dict.items():\n",
        "    if pid in org_dict:\n",
        "        for forg_img in imgs:\n",
        "            img1 = load_image(os.path.join(path_org, random.choice(org_dict[pid])))\n",
        "            img2 = load_image(os.path.join(path_forg, forg_img))\n",
        "            pairs.append([img1, img2])\n",
        "            labels.append(0)\n",
        "\n",
        "pairs = np.array(pairs)\n",
        "labels = np.array(labels)\n",
        "\n",
        "print(f\"✅ Total pairs: {len(pairs)} | Positive: {np.sum(labels)} | Negative: {len(labels) - np.sum(labels)}\")"
      ],
      "metadata": {
        "colab": {
          "base_uri": "https://localhost:8080/"
        },
        "id": "ay22YtU0GbGs",
        "outputId": "ed91f89c-f6bc-4ccf-86c7-c2b31737bc7b"
      },
      "execution_count": 15,
      "outputs": [
        {
          "output_type": "stream",
          "name": "stdout",
          "text": [
            "✅ Total pairs: 2585 | Positive: 1265 | Negative: 1320\n"
          ]
        }
      ]
    },
    {
      "cell_type": "code",
      "source": [
        "# ======================================================\n",
        "# 6. Split data\n",
        "# ======================================================\n",
        "X_train, X_test, y_train, y_test = train_test_split(pairs, labels, test_size=0.2, random_state=42)\n",
        "\n",
        "train_img1 = np.array([x[0] for x in X_train])\n",
        "train_img2 = np.array([x[1] for x in X_train])\n",
        "test_img1 = np.array([x[0] for x in X_test])\n",
        "test_img2 = np.array([x[1] for x in X_test])\n"
      ],
      "metadata": {
        "id": "PdQ3l0f1PHnQ"
      },
      "execution_count": 16,
      "outputs": []
    },
    {
      "cell_type": "code",
      "source": [
        "# ======================================================\n",
        "# 7. Bangun backbone CNN\n",
        "# ======================================================\n",
        "def build_base_network(input_shape=(155, 220, 1)):\n",
        "    input = Input(shape=input_shape)\n",
        "    x = Conv2D(32, (7,7), activation='relu')(input)\n",
        "    x = MaxPooling2D()(x)\n",
        "    x = Conv2D(64, (5,5), activation='relu')(x)\n",
        "    x = MaxPooling2D()(x)\n",
        "    x = Conv2D(128, (3,3), activation='relu')(x)\n",
        "    x = Flatten()(x)\n",
        "    x = Dense(512, activation='sigmoid')(x)\n",
        "    return Model(input, x)\n",
        "\n",
        "base_network = build_base_network()\n",
        "\n",
        "\n"
      ],
      "metadata": {
        "id": "KMJiyIFHPKHP"
      },
      "execution_count": 17,
      "outputs": []
    },
    {
      "cell_type": "code",
      "source": [
        "# ======================================================\n",
        "# 8. Definisikan jarak Euclidean dan Contrastive Loss\n",
        "# ======================================================\n",
        "def euclidean_distance(vects):\n",
        "    x, y = vects\n",
        "    return K.sqrt(K.maximum(K.sum(K.square(x - y), axis=1, keepdims=True), K.epsilon()))\n",
        "\n",
        "def contrastive_loss(y_true, y_pred):\n",
        "    margin = 1.0\n",
        "    return K.mean(y_true * K.square(y_pred) +\n",
        "                  (1 - y_true) * K.square(K.maximum(margin - y_pred, 0)))\n",
        "\n",
        "def compute_accuracy(y_true, y_pred):\n",
        "    pred = y_pred.ravel() < 0.5\n",
        "    return np.mean(pred == y_true)\n",
        "\n"
      ],
      "metadata": {
        "id": "toxLfxx1PTJ2"
      },
      "execution_count": 18,
      "outputs": []
    },
    {
      "cell_type": "code",
      "source": [
        "# ======================================================\n",
        "# 9. Bangun model Siamese\n",
        "# ======================================================\n",
        "input_a = Input(shape=(155, 220, 1))\n",
        "input_b = Input(shape=(155, 220, 1))\n",
        "\n",
        "processed_a = base_network(input_a)\n",
        "processed_b = base_network(input_b)\n",
        "\n",
        "distance = Lambda(euclidean_distance, name='euclidean_distance')([processed_a, processed_b])\n",
        "\n",
        "siamese_net = Model([input_a, input_b], distance)\n",
        "siamese_net.compile(loss=contrastive_loss, optimizer=tf.keras.optimizers.Adam(0.0001))\n",
        "\n",
        "siamese_net.summary()\n",
        "\n"
      ],
      "metadata": {
        "colab": {
          "base_uri": "https://localhost:8080/",
          "height": 321
        },
        "id": "mQ_4RugOUNLN",
        "outputId": "e3550786-cf02-4c12-8700-955073d37319"
      },
      "execution_count": 19,
      "outputs": [
        {
          "output_type": "display_data",
          "data": {
            "text/plain": [
              "\u001b[1mModel: \"functional_3\"\u001b[0m\n"
            ],
            "text/html": [
              "<pre style=\"white-space:pre;overflow-x:auto;line-height:normal;font-family:Menlo,'DejaVu Sans Mono',consolas,'Courier New',monospace\"><span style=\"font-weight: bold\">Model: \"functional_3\"</span>\n",
              "</pre>\n"
            ]
          },
          "metadata": {}
        },
        {
          "output_type": "display_data",
          "data": {
            "text/plain": [
              "┏━━━━━━━━━━━━━━━━━━━━━┳━━━━━━━━━━━━━━━━━━━┳━━━━━━━━━━━━┳━━━━━━━━━━━━━━━━━━━┓\n",
              "┃\u001b[1m \u001b[0m\u001b[1mLayer (type)       \u001b[0m\u001b[1m \u001b[0m┃\u001b[1m \u001b[0m\u001b[1mOutput Shape     \u001b[0m\u001b[1m \u001b[0m┃\u001b[1m \u001b[0m\u001b[1m   Param #\u001b[0m\u001b[1m \u001b[0m┃\u001b[1m \u001b[0m\u001b[1mConnected to     \u001b[0m\u001b[1m \u001b[0m┃\n",
              "┡━━━━━━━━━━━━━━━━━━━━━╇━━━━━━━━━━━━━━━━━━━╇━━━━━━━━━━━━╇━━━━━━━━━━━━━━━━━━━┩\n",
              "│ input_layer_4       │ (\u001b[38;5;45mNone\u001b[0m, \u001b[38;5;34m155\u001b[0m, \u001b[38;5;34m220\u001b[0m,  │          \u001b[38;5;34m0\u001b[0m │ -                 │\n",
              "│ (\u001b[38;5;33mInputLayer\u001b[0m)        │ \u001b[38;5;34m1\u001b[0m)                │            │                   │\n",
              "├─────────────────────┼───────────────────┼────────────┼───────────────────┤\n",
              "│ input_layer_5       │ (\u001b[38;5;45mNone\u001b[0m, \u001b[38;5;34m155\u001b[0m, \u001b[38;5;34m220\u001b[0m,  │          \u001b[38;5;34m0\u001b[0m │ -                 │\n",
              "│ (\u001b[38;5;33mInputLayer\u001b[0m)        │ \u001b[38;5;34m1\u001b[0m)                │            │                   │\n",
              "├─────────────────────┼───────────────────┼────────────┼───────────────────┤\n",
              "│ functional_2        │ (\u001b[38;5;45mNone\u001b[0m, \u001b[38;5;34m512\u001b[0m)       │ \u001b[38;5;34m106,098,9…\u001b[0m │ input_layer_4[\u001b[38;5;34m0\u001b[0m]… │\n",
              "│ (\u001b[38;5;33mFunctional\u001b[0m)        │                   │            │ input_layer_5[\u001b[38;5;34m0\u001b[0m]… │\n",
              "├─────────────────────┼───────────────────┼────────────┼───────────────────┤\n",
              "│ euclidean_distance  │ (\u001b[38;5;45mNone\u001b[0m, \u001b[38;5;34m1\u001b[0m)         │          \u001b[38;5;34m0\u001b[0m │ functional_2[\u001b[38;5;34m0\u001b[0m][\u001b[38;5;34m…\u001b[0m │\n",
              "│ (\u001b[38;5;33mLambda\u001b[0m)            │                   │            │ functional_2[\u001b[38;5;34m1\u001b[0m][\u001b[38;5;34m…\u001b[0m │\n",
              "└─────────────────────┴───────────────────┴────────────┴───────────────────┘\n"
            ],
            "text/html": [
              "<pre style=\"white-space:pre;overflow-x:auto;line-height:normal;font-family:Menlo,'DejaVu Sans Mono',consolas,'Courier New',monospace\">┏━━━━━━━━━━━━━━━━━━━━━┳━━━━━━━━━━━━━━━━━━━┳━━━━━━━━━━━━┳━━━━━━━━━━━━━━━━━━━┓\n",
              "┃<span style=\"font-weight: bold\"> Layer (type)        </span>┃<span style=\"font-weight: bold\"> Output Shape      </span>┃<span style=\"font-weight: bold\">    Param # </span>┃<span style=\"font-weight: bold\"> Connected to      </span>┃\n",
              "┡━━━━━━━━━━━━━━━━━━━━━╇━━━━━━━━━━━━━━━━━━━╇━━━━━━━━━━━━╇━━━━━━━━━━━━━━━━━━━┩\n",
              "│ input_layer_4       │ (<span style=\"color: #00d7ff; text-decoration-color: #00d7ff\">None</span>, <span style=\"color: #00af00; text-decoration-color: #00af00\">155</span>, <span style=\"color: #00af00; text-decoration-color: #00af00\">220</span>,  │          <span style=\"color: #00af00; text-decoration-color: #00af00\">0</span> │ -                 │\n",
              "│ (<span style=\"color: #0087ff; text-decoration-color: #0087ff\">InputLayer</span>)        │ <span style=\"color: #00af00; text-decoration-color: #00af00\">1</span>)                │            │                   │\n",
              "├─────────────────────┼───────────────────┼────────────┼───────────────────┤\n",
              "│ input_layer_5       │ (<span style=\"color: #00d7ff; text-decoration-color: #00d7ff\">None</span>, <span style=\"color: #00af00; text-decoration-color: #00af00\">155</span>, <span style=\"color: #00af00; text-decoration-color: #00af00\">220</span>,  │          <span style=\"color: #00af00; text-decoration-color: #00af00\">0</span> │ -                 │\n",
              "│ (<span style=\"color: #0087ff; text-decoration-color: #0087ff\">InputLayer</span>)        │ <span style=\"color: #00af00; text-decoration-color: #00af00\">1</span>)                │            │                   │\n",
              "├─────────────────────┼───────────────────┼────────────┼───────────────────┤\n",
              "│ functional_2        │ (<span style=\"color: #00d7ff; text-decoration-color: #00d7ff\">None</span>, <span style=\"color: #00af00; text-decoration-color: #00af00\">512</span>)       │ <span style=\"color: #00af00; text-decoration-color: #00af00\">106,098,9…</span> │ input_layer_4[<span style=\"color: #00af00; text-decoration-color: #00af00\">0</span>]… │\n",
              "│ (<span style=\"color: #0087ff; text-decoration-color: #0087ff\">Functional</span>)        │                   │            │ input_layer_5[<span style=\"color: #00af00; text-decoration-color: #00af00\">0</span>]… │\n",
              "├─────────────────────┼───────────────────┼────────────┼───────────────────┤\n",
              "│ euclidean_distance  │ (<span style=\"color: #00d7ff; text-decoration-color: #00d7ff\">None</span>, <span style=\"color: #00af00; text-decoration-color: #00af00\">1</span>)         │          <span style=\"color: #00af00; text-decoration-color: #00af00\">0</span> │ functional_2[<span style=\"color: #00af00; text-decoration-color: #00af00\">0</span>][<span style=\"color: #00af00; text-decoration-color: #00af00\">…</span> │\n",
              "│ (<span style=\"color: #0087ff; text-decoration-color: #0087ff\">Lambda</span>)            │                   │            │ functional_2[<span style=\"color: #00af00; text-decoration-color: #00af00\">1</span>][<span style=\"color: #00af00; text-decoration-color: #00af00\">…</span> │\n",
              "└─────────────────────┴───────────────────┴────────────┴───────────────────┘\n",
              "</pre>\n"
            ]
          },
          "metadata": {}
        },
        {
          "output_type": "display_data",
          "data": {
            "text/plain": [
              "\u001b[1m Total params: \u001b[0m\u001b[38;5;34m106,098,944\u001b[0m (404.74 MB)\n"
            ],
            "text/html": [
              "<pre style=\"white-space:pre;overflow-x:auto;line-height:normal;font-family:Menlo,'DejaVu Sans Mono',consolas,'Courier New',monospace\"><span style=\"font-weight: bold\"> Total params: </span><span style=\"color: #00af00; text-decoration-color: #00af00\">106,098,944</span> (404.74 MB)\n",
              "</pre>\n"
            ]
          },
          "metadata": {}
        },
        {
          "output_type": "display_data",
          "data": {
            "text/plain": [
              "\u001b[1m Trainable params: \u001b[0m\u001b[38;5;34m106,098,944\u001b[0m (404.74 MB)\n"
            ],
            "text/html": [
              "<pre style=\"white-space:pre;overflow-x:auto;line-height:normal;font-family:Menlo,'DejaVu Sans Mono',consolas,'Courier New',monospace\"><span style=\"font-weight: bold\"> Trainable params: </span><span style=\"color: #00af00; text-decoration-color: #00af00\">106,098,944</span> (404.74 MB)\n",
              "</pre>\n"
            ]
          },
          "metadata": {}
        },
        {
          "output_type": "display_data",
          "data": {
            "text/plain": [
              "\u001b[1m Non-trainable params: \u001b[0m\u001b[38;5;34m0\u001b[0m (0.00 B)\n"
            ],
            "text/html": [
              "<pre style=\"white-space:pre;overflow-x:auto;line-height:normal;font-family:Menlo,'DejaVu Sans Mono',consolas,'Courier New',monospace\"><span style=\"font-weight: bold\"> Non-trainable params: </span><span style=\"color: #00af00; text-decoration-color: #00af00\">0</span> (0.00 B)\n",
              "</pre>\n"
            ]
          },
          "metadata": {}
        }
      ]
    },
    {
      "cell_type": "code",
      "source": [
        "# ======================================================\n",
        "# 10. Callback (checkpoint + early stopping)\n",
        "# ======================================================\n",
        "checkpoint_path = \"/content/drive/MyDrive/CapstoneProject/signature_siamese_best.keras\"\n",
        "callbacks = [\n",
        "    EarlyStopping(monitor='val_loss', patience=5, restore_best_weights=True),\n",
        "    ModelCheckpoint(filepath=checkpoint_path, monitor='val_loss', save_best_only=True)\n",
        "]"
      ],
      "metadata": {
        "id": "pp2QVyhoOldZ"
      },
      "execution_count": 20,
      "outputs": []
    },
    {
      "cell_type": "code",
      "source": [
        "# ======================================================\n",
        "# 11. Training\n",
        "# ======================================================\n",
        "history = siamese_net.fit(\n",
        "    [train_img1, train_img2],\n",
        "    y_train,\n",
        "    validation_data=([test_img1, test_img2], y_test),\n",
        "    batch_size=16,\n",
        "    epochs=25,\n",
        "    callbacks=callbacks\n",
        ")"
      ],
      "metadata": {
        "colab": {
          "base_uri": "https://localhost:8080/"
        },
        "id": "z0SN1iHBOl9i",
        "outputId": "9f407a23-6133-4adc-8579-f8902a8df688"
      },
      "execution_count": 21,
      "outputs": [
        {
          "output_type": "stream",
          "name": "stdout",
          "text": [
            "Epoch 1/25\n",
            "\u001b[1m130/130\u001b[0m \u001b[32m━━━━━━━━━━━━━━━━━━━━\u001b[0m\u001b[37m\u001b[0m \u001b[1m52s\u001b[0m 349ms/step - loss: 0.2714 - val_loss: 0.1526\n",
            "Epoch 2/25\n",
            "\u001b[1m130/130\u001b[0m \u001b[32m━━━━━━━━━━━━━━━━━━━━\u001b[0m\u001b[37m\u001b[0m \u001b[1m41s\u001b[0m 319ms/step - loss: 0.0943 - val_loss: 0.0544\n",
            "Epoch 3/25\n",
            "\u001b[1m130/130\u001b[0m \u001b[32m━━━━━━━━━━━━━━━━━━━━\u001b[0m\u001b[37m\u001b[0m \u001b[1m9s\u001b[0m 69ms/step - loss: 0.0362 - val_loss: 0.1159\n",
            "Epoch 4/25\n",
            "\u001b[1m130/130\u001b[0m \u001b[32m━━━━━━━━━━━━━━━━━━━━\u001b[0m\u001b[37m\u001b[0m \u001b[1m9s\u001b[0m 71ms/step - loss: 0.0317 - val_loss: 0.0760\n",
            "Epoch 5/25\n",
            "\u001b[1m130/130\u001b[0m \u001b[32m━━━━━━━━━━━━━━━━━━━━\u001b[0m\u001b[37m\u001b[0m \u001b[1m41s\u001b[0m 315ms/step - loss: 0.0174 - val_loss: 0.0468\n",
            "Epoch 6/25\n",
            "\u001b[1m130/130\u001b[0m \u001b[32m━━━━━━━━━━━━━━━━━━━━\u001b[0m\u001b[37m\u001b[0m \u001b[1m48s\u001b[0m 368ms/step - loss: 0.0211 - val_loss: 0.0433\n",
            "Epoch 7/25\n",
            "\u001b[1m130/130\u001b[0m \u001b[32m━━━━━━━━━━━━━━━━━━━━\u001b[0m\u001b[37m\u001b[0m \u001b[1m34s\u001b[0m 262ms/step - loss: 0.0106 - val_loss: 0.0363\n",
            "Epoch 8/25\n",
            "\u001b[1m130/130\u001b[0m \u001b[32m━━━━━━━━━━━━━━━━━━━━\u001b[0m\u001b[37m\u001b[0m \u001b[1m9s\u001b[0m 70ms/step - loss: 0.0074 - val_loss: 0.0378\n",
            "Epoch 9/25\n",
            "\u001b[1m130/130\u001b[0m \u001b[32m━━━━━━━━━━━━━━━━━━━━\u001b[0m\u001b[37m\u001b[0m \u001b[1m9s\u001b[0m 70ms/step - loss: 0.0075 - val_loss: 0.0384\n",
            "Epoch 10/25\n",
            "\u001b[1m130/130\u001b[0m \u001b[32m━━━━━━━━━━━━━━━━━━━━\u001b[0m\u001b[37m\u001b[0m \u001b[1m32s\u001b[0m 246ms/step - loss: 0.0045 - val_loss: 0.0349\n",
            "Epoch 11/25\n",
            "\u001b[1m130/130\u001b[0m \u001b[32m━━━━━━━━━━━━━━━━━━━━\u001b[0m\u001b[37m\u001b[0m \u001b[1m9s\u001b[0m 69ms/step - loss: 0.0085 - val_loss: 0.0431\n",
            "Epoch 12/25\n",
            "\u001b[1m130/130\u001b[0m \u001b[32m━━━━━━━━━━━━━━━━━━━━\u001b[0m\u001b[37m\u001b[0m \u001b[1m9s\u001b[0m 70ms/step - loss: 0.0111 - val_loss: 0.0351\n",
            "Epoch 13/25\n",
            "\u001b[1m130/130\u001b[0m \u001b[32m━━━━━━━━━━━━━━━━━━━━\u001b[0m\u001b[37m\u001b[0m \u001b[1m9s\u001b[0m 68ms/step - loss: 0.0081 - val_loss: 0.0350\n",
            "Epoch 14/25\n",
            "\u001b[1m130/130\u001b[0m \u001b[32m━━━━━━━━━━━━━━━━━━━━\u001b[0m\u001b[37m\u001b[0m \u001b[1m9s\u001b[0m 69ms/step - loss: 0.0068 - val_loss: 0.0363\n",
            "Epoch 15/25\n",
            "\u001b[1m130/130\u001b[0m \u001b[32m━━━━━━━━━━━━━━━━━━━━\u001b[0m\u001b[37m\u001b[0m \u001b[1m37s\u001b[0m 286ms/step - loss: 0.0070 - val_loss: 0.0336\n",
            "Epoch 16/25\n",
            "\u001b[1m130/130\u001b[0m \u001b[32m━━━━━━━━━━━━━━━━━━━━\u001b[0m\u001b[37m\u001b[0m \u001b[1m27s\u001b[0m 207ms/step - loss: 0.0060 - val_loss: 0.0319\n",
            "Epoch 17/25\n",
            "\u001b[1m130/130\u001b[0m \u001b[32m━━━━━━━━━━━━━━━━━━━━\u001b[0m\u001b[37m\u001b[0m \u001b[1m36s\u001b[0m 275ms/step - loss: 0.0026 - val_loss: 0.0316\n",
            "Epoch 18/25\n",
            "\u001b[1m130/130\u001b[0m \u001b[32m━━━━━━━━━━━━━━━━━━━━\u001b[0m\u001b[37m\u001b[0m \u001b[1m9s\u001b[0m 69ms/step - loss: 0.0035 - val_loss: 0.0411\n",
            "Epoch 19/25\n",
            "\u001b[1m130/130\u001b[0m \u001b[32m━━━━━━━━━━━━━━━━━━━━\u001b[0m\u001b[37m\u001b[0m \u001b[1m66s\u001b[0m 514ms/step - loss: 0.0080 - val_loss: 0.0308\n",
            "Epoch 20/25\n",
            "\u001b[1m130/130\u001b[0m \u001b[32m━━━━━━━━━━━━━━━━━━━━\u001b[0m\u001b[37m\u001b[0m \u001b[1m9s\u001b[0m 69ms/step - loss: 0.0064 - val_loss: 0.0321\n",
            "Epoch 21/25\n",
            "\u001b[1m130/130\u001b[0m \u001b[32m━━━━━━━━━━━━━━━━━━━━\u001b[0m\u001b[37m\u001b[0m \u001b[1m9s\u001b[0m 72ms/step - loss: 0.0057 - val_loss: 0.0424\n",
            "Epoch 22/25\n",
            "\u001b[1m130/130\u001b[0m \u001b[32m━━━━━━━━━━━━━━━━━━━━\u001b[0m\u001b[37m\u001b[0m \u001b[1m10s\u001b[0m 72ms/step - loss: 0.0081 - val_loss: 0.0334\n",
            "Epoch 23/25\n",
            "\u001b[1m130/130\u001b[0m \u001b[32m━━━━━━━━━━━━━━━━━━━━\u001b[0m\u001b[37m\u001b[0m \u001b[1m10s\u001b[0m 72ms/step - loss: 0.0092 - val_loss: 0.0329\n",
            "Epoch 24/25\n",
            "\u001b[1m130/130\u001b[0m \u001b[32m━━━━━━━━━━━━━━━━━━━━\u001b[0m\u001b[37m\u001b[0m \u001b[1m43s\u001b[0m 329ms/step - loss: 0.0038 - val_loss: 0.0303\n",
            "Epoch 25/25\n",
            "\u001b[1m130/130\u001b[0m \u001b[32m━━━━━━━━━━━━━━━━━━━━\u001b[0m\u001b[37m\u001b[0m \u001b[1m9s\u001b[0m 68ms/step - loss: 0.0029 - val_loss: 0.0312\n"
          ]
        }
      ]
    },
    {
      "cell_type": "code",
      "source": [
        "# Evaluate manual accuracy\n",
        "y_pred_train = siamese_net.predict([train_img1, train_img2])\n",
        "y_pred_test = siamese_net.predict([test_img1, test_img2])\n",
        "\n",
        "train_acc = compute_accuracy(y_train, y_pred_train)\n",
        "test_acc = compute_accuracy(y_test, y_pred_test)\n",
        "\n",
        "print(f\"Training accuracy: {train_acc:.4f}\")\n",
        "print(f\"Testing accuracy: {test_acc:.4f}\")"
      ],
      "metadata": {
        "colab": {
          "base_uri": "https://localhost:8080/"
        },
        "id": "wuo9ZiLHTfXK",
        "outputId": "02cb7377-49d7-4d6e-a7bb-fddc702cab8c"
      },
      "execution_count": 23,
      "outputs": [
        {
          "output_type": "stream",
          "name": "stdout",
          "text": [
            "\u001b[1m65/65\u001b[0m \u001b[32m━━━━━━━━━━━━━━━━━━━━\u001b[0m\u001b[37m\u001b[0m \u001b[1m8s\u001b[0m 47ms/step\n",
            "\u001b[1m17/17\u001b[0m \u001b[32m━━━━━━━━━━━━━━━━━━━━\u001b[0m\u001b[37m\u001b[0m \u001b[1m1s\u001b[0m 46ms/step\n",
            "Training accuracy: 1.0000\n",
            "Testing accuracy: 0.9884\n"
          ]
        }
      ]
    },
    {
      "cell_type": "code",
      "source": [
        "# ======================================================\n",
        "# 12. Simpan model final ke format .keras\n",
        "# ======================================================\n",
        "final_model_path = \"/content/drive/MyDrive/CapstoneProject/signature_siamese_final.keras\"\n",
        "siamese_net.save(final_model_path)\n",
        "\n",
        "print(f\"\\n✅ Training selesai. Model disimpan di:\\n{final_model_path}\")"
      ],
      "metadata": {
        "colab": {
          "base_uri": "https://localhost:8080/"
        },
        "id": "zbz02Pj8OnvL",
        "outputId": "695f85de-abbe-4093-fbfc-56b7a4f7af4d"
      },
      "execution_count": 22,
      "outputs": [
        {
          "output_type": "stream",
          "name": "stdout",
          "text": [
            "\n",
            "✅ Training selesai. Model disimpan di:\n",
            "/content/drive/MyDrive/CapstoneProject/signature_siamese_final.keras\n"
          ]
        }
      ]
    }
  ]
}